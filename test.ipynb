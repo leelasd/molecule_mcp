{
 "cells": [
  {
   "cell_type": "code",
   "execution_count": 8,
   "id": "4c92daf4",
   "metadata": {},
   "outputs": [],
   "source": [
    "from rdkit import Chem\n",
    "from rdkit.Chem import Draw\n",
    "from rdkit.Chem.Draw import IPythonConsole\n",
    "from rdkit import Chem\n",
    "from rdkit.Chem import Draw, AllChem, Descriptors, Lipinski\n",
    "from rdkit.Chem.Draw import rdMolDraw2D\n",
    "from PIL import Image as PILImage\n",
    "from mcp.server.fastmcp import FastMCP, Image\n",
    "IPythonConsole.drawOptions.addAtomIndices = True\n",
    "IPythonConsole.molSize = 300,300\n",
    "\n",
    "import logging\n",
    "# Configure logging\n",
    "logging.basicConfig(\n",
    "    level=logging.INFO,\n",
    "    format=\"%(asctime)s - %(name)s - %(levelname)s - %(message)s\"\n",
    ")\n",
    "logger = logging.getLogger(__name__)\n"
   ]
  },
  {
   "cell_type": "code",
   "execution_count": 9,
   "id": "50e15ad6",
   "metadata": {},
   "outputs": [],
   "source": [
    "mol = Chem.MolFromSmiles(\"CNC1=CC(NC2=CC=CN(C2=O)C3=CC=CC=N3)=NC4=C(C=NN14)C(=O)N[C@@H]5CC[C@H]5OC\")"
   ]
  },
  {
   "cell_type": "code",
   "execution_count": 10,
   "id": "d8521431",
   "metadata": {},
   "outputs": [
    {
     "data": {
      "image/png": "[encoded data removed]",
      "text/plain": [
       "<rdkit.Chem.rdchem.Mol at 0x17491a420>"
      ]
     },
     "execution_count": 10,
     "metadata": {},
     "output_type": "execute_result"
    }
   ],
   "source": [
    "mol"
   ]
  },
  {
   "cell_type": "code",
   "execution_count": 4,
   "id": "7fe45deb",
   "metadata": {},
   "outputs": [],
   "source": [
    "def visualize_molecule(query: str, width: int = 400, height: int = 300, \n",
    "                      show_atom_indices: bool = False) -> Image:\n",
    "    \"\"\"Generate a 2D visualization of a molecule.\n",
    "    \n",
    "    Args:\n",
    "        query: Molecule name or SMILES string\n",
    "        width: Width of the output image in pixels\n",
    "        height: Height of the output image in pixels\n",
    "        show_atom_indices: Whether to show atom indices in the visualization\n",
    "        \n",
    "    Returns:\n",
    "        Image object containing the molecule visualization\n",
    "    \"\"\"\n",
    "    try:\n",
    "        smiles = query.strip()        \n",
    "        # Try to create a molecule from the SMILES string\n",
    "        mol = Chem.MolFromSmiles(smiles)\n",
    "        \n",
    "        if mol is None:\n",
    "            raise ValueError(f\"Could not parse '{query}' as a valid molecule. Please provide a valid SMILES string or use a common molecule name.\")\n",
    "        \n",
    "        # Generate 2D coordinates if they don't exist\n",
    "        if not mol.GetNumConformers():\n",
    "            AllChem.Compute2DCoords(mol)\n",
    "        \n",
    "        # Create a drawing object\n",
    "        drawer = rdMolDraw2D.MolDraw2DCairo(width, height)\n",
    "        \n",
    "        # Configure drawing options\n",
    "        opts = drawer.drawOptions()\n",
    "        if show_atom_indices:\n",
    "            opts.addAtomIndices = True\n",
    "        \n",
    "        # Draw the molecule\n",
    "        drawer.DrawMolecule(mol)\n",
    "        drawer.FinishDrawing()\n",
    "        \n",
    "        # Get the PNG data\n",
    "        png_data = drawer.GetDrawingText()\n",
    "        \n",
    "        # Return as Image object\n",
    "        return Image(data=png_data, format=\"png\")\n",
    "    \n",
    "    except Exception as e:\n",
    "        logger.error(f\"Error visualizing molecule: {str(e)}\")\n",
    "        raise\n"
   ]
  },
  {
   "cell_type": "code",
   "execution_count": 6,
   "id": "38693bef",
   "metadata": {},
   "outputs": [],
   "source": [
    "res = visualize_molecule(\"CNC1=CC(NC2=CC=CN(C2=O)C3=CC=CC=N3)=NC4=C(C=NN14)C(=O)N[C@@H]5CC[C@H]5OC\")"
   ]
  },
  {
   "cell_type": "code",
   "execution_count": null,
   "id": "acdbff7f",
   "metadata": {},
   "outputs": [],
   "source": []
  }
 ],
 "metadata": {
  "kernelspec": {
   "display_name": "basic_env",
   "language": "python",
   "name": "python3"
  },
  "language_info": {
   "codemirror_mode": {
    "name": "ipython",
    "version": 3
   },
   "file_extension": ".py",
   "mimetype": "text/x-python",
   "name": "python",
   "nbconvert_exporter": "python",
   "pygments_lexer": "ipython3",
   "version": "3.11.11"
  }
 },
 "nbformat": 4,
 "nbformat_minor": 5
}
